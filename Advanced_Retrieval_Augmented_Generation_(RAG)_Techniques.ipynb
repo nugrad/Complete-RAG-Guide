{
  "nbformat": 4,
  "nbformat_minor": 0,
  "metadata": {
    "colab": {
      "provenance": []
    },
    "kernelspec": {
      "name": "python3",
      "display_name": "Python 3"
    },
    "language_info": {
      "name": "python"
    }
  },
  "cells": [
    {
      "cell_type": "markdown",
      "source": [
        "# **1. Introduction to Retrieval-Augmented Generation (RAG)**\n",
        "\n",
        "Retrieval-Augmented Generation (RAG) is an advanced AI framework that combines retrieval-based methods with generative models to improve factual accuracy and contextual relevance. Instead of relying purely on a pre-trained model’s memory, RAG dynamically retrieves relevant documents or knowledge from external sources before generating a response.\n",
        "\n",
        "## **Key Components of RAG**\n",
        "\n",
        "1. **Retriever –** Fetches relevant documents from a knowledge base (e.g., vector database, documents, Wikipedia, etc.).\n",
        "2. **Generator –** Uses a Large Language Model (LLM) to generate responses based on retrieved information.\n",
        "3. **Fusion Mechanism –** Integrates retrieved knowledge with the model's generative capabilities."
      ],
      "metadata": {
        "id": "FxL2XIiqI2rY"
      }
    },
    {
      "cell_type": "markdown",
      "source": [
        "# **2. Advanced RAG Techniques**\n",
        "While the basic RAG model retrieves and generates text in a simple pipeline, advanced RAG techniques enhance efficiency, accuracy, and reliability.\n",
        "\n",
        "## **2.1 Hybrid Retrieval Mechanisms**\n",
        "Instead of relying solely on vector search (semantic similarity), hybrid retrieval combines multiple approaches for better recall:\n",
        "\n",
        "* **Dense Retrieval (Embedding-based search) –** Uses embedding models (e.g., OpenAI’s ADA, BERT, etc.) to find semantically similar documents.\n",
        "* **Sparse Retrieval (BM25, TF-IDF) –** Uses traditional keyword-based retrieval methods to fetch relevant documents.\n",
        "* **Re-ranking Models –** Reranks retrieved documents using fine-tuned models like Cohere’s rerank model or BGE-Reranker.\n",
        "\n",
        "_📌 Use Case:_ Hybrid retrieval is ideal for legal documents, healthcare FAQs, and enterprise search, where keyword-based and semantic search both provide complementary benefits."
      ],
      "metadata": {
        "id": "b9fKUPr_JLAM"
      }
    },
    {
      "cell_type": "markdown",
      "source": [
        "## **2.2 Multi-Hop Retrieval**\n",
        "* In complex queries, one document might reference another crucial piece of information. Multi-hop retrieval chains multiple retrieval steps together to find deeply connected knowledge.\n",
        "* Graph-based approaches (e.g., Knowledge Graphs) help link relevant pieces of retrieved content.\n",
        "\n",
        "_📌 Use Case:_ Used in academic research and question-answering over knowledge graphs."
      ],
      "metadata": {
        "id": "f6TRzgHRJyOw"
      }
    },
    {
      "cell_type": "markdown",
      "source": [
        "## **2.3 Context Window Optimization (Chunking & Summarization)**\n",
        "Since LLMs have limited context lengths, RAG systems use intelligent chunking to break large documents into manageable segments.\n",
        "\n",
        "  * Sliding Window Approach – Overlapping windows to retain context.\n",
        "  * Dynamic Summarization – Generates a summary of retrieved content before passing it to the model, reducing token consumption.\n",
        "\n",
        "_📌 Use Case:_ Efficient document retrieval for legal contracts and scientific literature summarization."
      ],
      "metadata": {
        "id": "bdQtPSrYJ-T-"
      }
    },
    {
      "cell_type": "markdown",
      "source": [
        "## **2.4 Adaptive Retrieval Strategies (Query Reformulation & Expansion)**\n",
        "* Query Expansion – Enhances user queries with synonyms, rewording, or entity-based expansion (e.g., replacing \"AI\" with \"Artificial Intelligence\").\n",
        "* Self-Querying Mechanism – Uses an LLM to reformulate queries dynamically, improving retrieval relevance.\n",
        "\n",
        "_📌 Use Case:_ Chatbots improving user queries in e-commerce recommendations and customer support automation."
      ],
      "metadata": {
        "id": "08kisucOKO1z"
      }
    },
    {
      "cell_type": "markdown",
      "source": [
        "## **2.5 Memory-Augmented RAG (Long-Term Context Retention)**\n",
        "Instead of retrieving from static knowledge, memory-augmented RAG stores past interactions and retrieves them dynamically.\n",
        "\n",
        "* Vector Databases (e.g., Pinecone, Weaviate, FAISS) store historical context.\n",
        "* Episodic Memory – Adapts responses based on past interactions.\n",
        "\n",
        "_📌 Use Case:_ Personalized assistants and historical legal case retrieval."
      ],
      "metadata": {
        "id": "zvYopZr7KeQa"
      }
    },
    {
      "cell_type": "markdown",
      "source": [
        "## **2.6 RAG with Structured Data (SQL + LLM Fusion)**\n",
        "When dealing with structured databases (e.g., SQL, NoSQL), RAG integrates structured query generation alongside text retrieval.\n",
        "\n",
        "* Converts user queries into SQL queries using LLMs.\n",
        "* Retrieves structured information and combines it with unstructured text before generating a response.\n",
        "\n",
        "_📌 Use Case:_ Used in financial analytics and business intelligence dashboards."
      ],
      "metadata": {
        "id": "uc0WPxzzKsey"
      }
    },
    {
      "cell_type": "markdown",
      "source": [
        "## **2.7 Chain-of-Thought (CoT) + RAG for Enhanced Reasoning**\n",
        "Combining Chain-of-Thought prompting with RAG allows for multi-step reasoning while incorporating external knowledge.\n",
        "\n",
        "* Instead of a single-shot response, the model generates step-by-step reasoning using retrieved documents.\n",
        "\n",
        "_📌 Use Case:_ Used in medical diagnosis and automated research paper analysis."
      ],
      "metadata": {
        "id": "QV3_CmfLK4ja"
      }
    },
    {
      "cell_type": "markdown",
      "source": [
        "# **3. Applications of Advanced RAG in GenAI**\n",
        "## **3.1 Enterprise Knowledge Management**\n",
        "* Automates customer support, HR inquiries, and legal compliance checks by retrieving and generating context-aware responses.\n",
        "* Example: AI assistants in Slack, Notion AI, or Microsoft Copilot.\n",
        "\n",
        "## **3.2 Personalized Education & Training**\n",
        "\n",
        "* Uses retrieved educational material to generate adaptive learning paths for students.\n",
        "* Example: AI tutors that fetch textbook information and explain concepts dynamically.\n",
        "\n",
        "## **3.3 Healthcare & Clinical Decision Support**\n",
        "\n",
        "* Retrieves medical literature, patient records, and combines it with LLMs to assist doctors in diagnosing and recommending treatments.\n",
        "\n",
        "## **3.4 Financial & Legal Document Analysis**\n",
        "* Extracts insights from contracts, financial reports, or regulatory documents, reducing manual review time.\n",
        "\n",
        "## **3.5 AI-Augmented Search Engines**\n",
        "* Improves search experiences by retrieving knowledge from academic papers, patents, and company knowledge bases."
      ],
      "metadata": {
        "id": "IsDWZ8EFLHuu"
      }
    },
    {
      "cell_type": "markdown",
      "source": [
        "# **4. Implementation of Advanced RAG in GenAI**\n",
        "## **4.1 Tech Stack**\n",
        "To implement Advanced RAG, the following tools are commonly used:\n",
        "\n",
        "* Vector Databases – FAISS, Pinecone, Weaviate, ChromaDB\n",
        "* LLM Models – OpenAI GPT-4, Claude, Llama, Falcon\n",
        "* Retrieval Frameworks – LangChain, LlamaIndex\n",
        "* Hybrid Search Engines – Elasticsearch, Vespa, Redis Search"
      ],
      "metadata": {
        "id": "XOsRJ2h6LqQ-"
      }
    },
    {
      "cell_type": "markdown",
      "source": [
        "## **4.2 Step-by-Step Implementation**\n",
        "\n",
        "### **Step 1: Data Ingestion & Indexing**\n",
        "\n",
        "* Extract documents (PDFs, text, web pages).\n",
        "* Convert them into embeddings using OpenAI’s text-embedding-ada-002 or BERT.\n",
        "* Store embeddings in a vector database (FAISS, Pinecone).\n",
        "\n",
        "### **Step 2: Implementing Advanced Retrieval**\n",
        "\n",
        "* Use Hybrid Search (BM25 + Dense embeddings) for accurate document fetching.\n",
        "* Apply re-ranking techniques to order results by relevance.\n",
        "\n",
        "### **Step 3: Query Processing & Reformulation**\n",
        "\n",
        "* Apply Query Expansion to improve retrieval accuracy.\n",
        "* Use multi-hop retrieval if the query requires multiple document relationships.\n",
        "\n",
        "### **Step 4: Generating Contextual Responses**\n",
        "* Retrieve the most relevant documents and pass them to LLM with optimized context window handling.\n",
        "* Use Chain-of-Thought prompting for multi-step reasoning if necessary.\n",
        "\n",
        "### **Step 5: Response Generation & Refinement**\n",
        "\n",
        "* Combine retrieved information with LLM outputs using weighted fusion techniques.\n",
        "* Implement memory persistence for personalized interactions."
      ],
      "metadata": {
        "id": "iLHbp2vxMhyB"
      }
    },
    {
      "cell_type": "markdown",
      "source": [
        "# **5. Challenges and Future Directions**\n",
        "## **Challenges**\n",
        "* Context Length Limitation – Requires efficient summarization and chunking techniques.\n",
        "* Retrieval Errors – Hybrid approaches help, but noisy retrieval still affects accuracy.\n",
        "* Latency Issues – Optimizing retrieval speed with FAISS/Pinecone is critical.\n",
        "\n",
        "## **Future Enhancements**\n",
        "\n",
        "* Self-improving RAG – Models that refine their retrieval over time.\n",
        "* Neural-symbolic RAG – Combining deep learning with knowledge graphs.\n",
        "* Agent-based RAG – AI agents dynamically retrieve and process knowledge in multi-turn interactions."
      ],
      "metadata": {
        "id": "THs2FGdbNLk3"
      }
    },
    {
      "cell_type": "markdown",
      "source": [
        "# **Implementation**"
      ],
      "metadata": {
        "id": "Gih9nqi3OOhj"
      }
    },
    {
      "cell_type": "code",
      "source": [
        "!pip install langchain-core langchain-community langchain-openai faiss-cpu chromadb unstructured tiktoken"
      ],
      "metadata": {
        "colab": {
          "base_uri": "https://localhost:8080/"
        },
        "id": "OwkYEdZIJKK9",
        "outputId": "9406a0ac-f1c2-4e07-f6c8-93d09bc4511c"
      },
      "execution_count": 1,
      "outputs": [
        {
          "output_type": "stream",
          "name": "stdout",
          "text": [
            "Requirement already satisfied: langchain-core in /usr/local/lib/python3.11/dist-packages (0.3.33)\n",
            "Requirement already satisfied: langchain-community in /usr/local/lib/python3.11/dist-packages (0.3.16)\n",
            "Requirement already satisfied: langchain-openai in /usr/local/lib/python3.11/dist-packages (0.3.3)\n",
            "Requirement already satisfied: faiss-cpu in /usr/local/lib/python3.11/dist-packages (1.9.0.post1)\n",
            "Requirement already satisfied: chromadb in /usr/local/lib/python3.11/dist-packages (0.6.3)\n",
            "Requirement already satisfied: unstructured in /usr/local/lib/python3.11/dist-packages (0.16.17)\n",
            "Requirement already satisfied: tiktoken in /usr/local/lib/python3.11/dist-packages (0.8.0)\n",
            "Requirement already satisfied: PyYAML>=5.3 in /usr/local/lib/python3.11/dist-packages (from langchain-core) (6.0.2)\n",
            "Requirement already satisfied: jsonpatch<2.0,>=1.33 in /usr/local/lib/python3.11/dist-packages (from langchain-core) (1.33)\n",
            "Requirement already satisfied: langsmith<0.4,>=0.1.125 in /usr/local/lib/python3.11/dist-packages (from langchain-core) (0.3.2)\n",
            "Requirement already satisfied: packaging<25,>=23.2 in /usr/local/lib/python3.11/dist-packages (from langchain-core) (24.2)\n",
            "Requirement already satisfied: pydantic<3.0.0,>=2.5.2 in /usr/local/lib/python3.11/dist-packages (from langchain-core) (2.10.6)\n",
            "Requirement already satisfied: tenacity!=8.4.0,<10.0.0,>=8.1.0 in /usr/local/lib/python3.11/dist-packages (from langchain-core) (9.0.0)\n",
            "Requirement already satisfied: typing-extensions>=4.7 in /usr/local/lib/python3.11/dist-packages (from langchain-core) (4.12.2)\n",
            "Requirement already satisfied: SQLAlchemy<3,>=1.4 in /usr/local/lib/python3.11/dist-packages (from langchain-community) (2.0.37)\n",
            "Requirement already satisfied: aiohttp<4.0.0,>=3.8.3 in /usr/local/lib/python3.11/dist-packages (from langchain-community) (3.11.11)\n",
            "Requirement already satisfied: dataclasses-json<0.7,>=0.5.7 in /usr/local/lib/python3.11/dist-packages (from langchain-community) (0.6.7)\n",
            "Requirement already satisfied: httpx-sse<0.5.0,>=0.4.0 in /usr/local/lib/python3.11/dist-packages (from langchain-community) (0.4.0)\n",
            "Requirement already satisfied: langchain<0.4.0,>=0.3.16 in /usr/local/lib/python3.11/dist-packages (from langchain-community) (0.3.16)\n",
            "Requirement already satisfied: numpy<2,>=1.22.4 in /usr/local/lib/python3.11/dist-packages (from langchain-community) (1.26.4)\n",
            "Requirement already satisfied: pydantic-settings<3.0.0,>=2.4.0 in /usr/local/lib/python3.11/dist-packages (from langchain-community) (2.7.1)\n",
            "Requirement already satisfied: requests<3,>=2 in /usr/local/lib/python3.11/dist-packages (from langchain-community) (2.32.3)\n",
            "Requirement already satisfied: openai<2.0.0,>=1.58.1 in /usr/local/lib/python3.11/dist-packages (from langchain-openai) (1.59.9)\n",
            "Requirement already satisfied: build>=1.0.3 in /usr/local/lib/python3.11/dist-packages (from chromadb) (1.2.2.post1)\n",
            "Requirement already satisfied: chroma-hnswlib==0.7.6 in /usr/local/lib/python3.11/dist-packages (from chromadb) (0.7.6)\n",
            "Requirement already satisfied: fastapi>=0.95.2 in /usr/local/lib/python3.11/dist-packages (from chromadb) (0.115.8)\n",
            "Requirement already satisfied: uvicorn>=0.18.3 in /usr/local/lib/python3.11/dist-packages (from uvicorn[standard]>=0.18.3->chromadb) (0.34.0)\n",
            "Requirement already satisfied: posthog>=2.4.0 in /usr/local/lib/python3.11/dist-packages (from chromadb) (3.11.0)\n",
            "Requirement already satisfied: onnxruntime>=1.14.1 in /usr/local/lib/python3.11/dist-packages (from chromadb) (1.20.1)\n",
            "Requirement already satisfied: opentelemetry-api>=1.2.0 in /usr/local/lib/python3.11/dist-packages (from chromadb) (1.29.0)\n",
            "Requirement already satisfied: opentelemetry-exporter-otlp-proto-grpc>=1.2.0 in /usr/local/lib/python3.11/dist-packages (from chromadb) (1.29.0)\n",
            "Requirement already satisfied: opentelemetry-instrumentation-fastapi>=0.41b0 in /usr/local/lib/python3.11/dist-packages (from chromadb) (0.50b0)\n",
            "Requirement already satisfied: opentelemetry-sdk>=1.2.0 in /usr/local/lib/python3.11/dist-packages (from chromadb) (1.29.0)\n",
            "Requirement already satisfied: tokenizers>=0.13.2 in /usr/local/lib/python3.11/dist-packages (from chromadb) (0.21.0)\n",
            "Requirement already satisfied: pypika>=0.48.9 in /usr/local/lib/python3.11/dist-packages (from chromadb) (0.48.9)\n",
            "Requirement already satisfied: tqdm>=4.65.0 in /usr/local/lib/python3.11/dist-packages (from chromadb) (4.67.1)\n",
            "Requirement already satisfied: overrides>=7.3.1 in /usr/local/lib/python3.11/dist-packages (from chromadb) (7.7.0)\n",
            "Requirement already satisfied: importlib-resources in /usr/local/lib/python3.11/dist-packages (from chromadb) (6.5.2)\n",
            "Requirement already satisfied: grpcio>=1.58.0 in /usr/local/lib/python3.11/dist-packages (from chromadb) (1.70.0)\n",
            "Requirement already satisfied: bcrypt>=4.0.1 in /usr/local/lib/python3.11/dist-packages (from chromadb) (4.2.1)\n",
            "Requirement already satisfied: typer>=0.9.0 in /usr/local/lib/python3.11/dist-packages (from chromadb) (0.15.1)\n",
            "Requirement already satisfied: kubernetes>=28.1.0 in /usr/local/lib/python3.11/dist-packages (from chromadb) (32.0.0)\n",
            "Requirement already satisfied: mmh3>=4.0.1 in /usr/local/lib/python3.11/dist-packages (from chromadb) (5.1.0)\n",
            "Requirement already satisfied: orjson>=3.9.12 in /usr/local/lib/python3.11/dist-packages (from chromadb) (3.10.15)\n",
            "Requirement already satisfied: httpx>=0.27.0 in /usr/local/lib/python3.11/dist-packages (from chromadb) (0.28.1)\n",
            "Requirement already satisfied: rich>=10.11.0 in /usr/local/lib/python3.11/dist-packages (from chromadb) (13.9.4)\n",
            "Requirement already satisfied: chardet in /usr/local/lib/python3.11/dist-packages (from unstructured) (5.2.0)\n",
            "Requirement already satisfied: filetype in /usr/local/lib/python3.11/dist-packages (from unstructured) (1.2.0)\n",
            "Requirement already satisfied: python-magic in /usr/local/lib/python3.11/dist-packages (from unstructured) (0.4.27)\n",
            "Requirement already satisfied: lxml in /usr/local/lib/python3.11/dist-packages (from unstructured) (5.3.0)\n",
            "Requirement already satisfied: nltk in /usr/local/lib/python3.11/dist-packages (from unstructured) (3.9.1)\n",
            "Requirement already satisfied: beautifulsoup4 in /usr/local/lib/python3.11/dist-packages (from unstructured) (4.12.3)\n",
            "Requirement already satisfied: emoji in /usr/local/lib/python3.11/dist-packages (from unstructured) (2.14.1)\n",
            "Requirement already satisfied: python-iso639 in /usr/local/lib/python3.11/dist-packages (from unstructured) (2025.1.28)\n",
            "Requirement already satisfied: langdetect in /usr/local/lib/python3.11/dist-packages (from unstructured) (1.0.9)\n",
            "Requirement already satisfied: rapidfuzz in /usr/local/lib/python3.11/dist-packages (from unstructured) (3.12.1)\n",
            "Requirement already satisfied: backoff in /usr/local/lib/python3.11/dist-packages (from unstructured) (2.2.1)\n",
            "Requirement already satisfied: unstructured-client in /usr/local/lib/python3.11/dist-packages (from unstructured) (0.29.0)\n",
            "Requirement already satisfied: wrapt in /usr/local/lib/python3.11/dist-packages (from unstructured) (1.17.2)\n",
            "Requirement already satisfied: psutil in /usr/local/lib/python3.11/dist-packages (from unstructured) (5.9.5)\n",
            "Requirement already satisfied: python-oxmsg in /usr/local/lib/python3.11/dist-packages (from unstructured) (0.0.1)\n",
            "Requirement already satisfied: html5lib in /usr/local/lib/python3.11/dist-packages (from unstructured) (1.1)\n",
            "Requirement already satisfied: regex>=2022.1.18 in /usr/local/lib/python3.11/dist-packages (from tiktoken) (2024.11.6)\n",
            "Requirement already satisfied: aiohappyeyeballs>=2.3.0 in /usr/local/lib/python3.11/dist-packages (from aiohttp<4.0.0,>=3.8.3->langchain-community) (2.4.4)\n",
            "Requirement already satisfied: aiosignal>=1.1.2 in /usr/local/lib/python3.11/dist-packages (from aiohttp<4.0.0,>=3.8.3->langchain-community) (1.3.2)\n",
            "Requirement already satisfied: attrs>=17.3.0 in /usr/local/lib/python3.11/dist-packages (from aiohttp<4.0.0,>=3.8.3->langchain-community) (25.1.0)\n",
            "Requirement already satisfied: frozenlist>=1.1.1 in /usr/local/lib/python3.11/dist-packages (from aiohttp<4.0.0,>=3.8.3->langchain-community) (1.5.0)\n",
            "Requirement already satisfied: multidict<7.0,>=4.5 in /usr/local/lib/python3.11/dist-packages (from aiohttp<4.0.0,>=3.8.3->langchain-community) (6.1.0)\n",
            "Requirement already satisfied: propcache>=0.2.0 in /usr/local/lib/python3.11/dist-packages (from aiohttp<4.0.0,>=3.8.3->langchain-community) (0.2.1)\n",
            "Requirement already satisfied: yarl<2.0,>=1.17.0 in /usr/local/lib/python3.11/dist-packages (from aiohttp<4.0.0,>=3.8.3->langchain-community) (1.18.3)\n",
            "Requirement already satisfied: pyproject_hooks in /usr/local/lib/python3.11/dist-packages (from build>=1.0.3->chromadb) (1.2.0)\n",
            "Requirement already satisfied: marshmallow<4.0.0,>=3.18.0 in /usr/local/lib/python3.11/dist-packages (from dataclasses-json<0.7,>=0.5.7->langchain-community) (3.26.0)\n",
            "Requirement already satisfied: typing-inspect<1,>=0.4.0 in /usr/local/lib/python3.11/dist-packages (from dataclasses-json<0.7,>=0.5.7->langchain-community) (0.9.0)\n",
            "Requirement already satisfied: starlette<0.46.0,>=0.40.0 in /usr/local/lib/python3.11/dist-packages (from fastapi>=0.95.2->chromadb) (0.45.3)\n",
            "Requirement already satisfied: anyio in /usr/local/lib/python3.11/dist-packages (from httpx>=0.27.0->chromadb) (3.7.1)\n",
            "Requirement already satisfied: certifi in /usr/local/lib/python3.11/dist-packages (from httpx>=0.27.0->chromadb) (2024.12.14)\n",
            "Requirement already satisfied: httpcore==1.* in /usr/local/lib/python3.11/dist-packages (from httpx>=0.27.0->chromadb) (1.0.7)\n",
            "Requirement already satisfied: idna in /usr/local/lib/python3.11/dist-packages (from httpx>=0.27.0->chromadb) (3.10)\n",
            "Requirement already satisfied: h11<0.15,>=0.13 in /usr/local/lib/python3.11/dist-packages (from httpcore==1.*->httpx>=0.27.0->chromadb) (0.14.0)\n",
            "Requirement already satisfied: jsonpointer>=1.9 in /usr/local/lib/python3.11/dist-packages (from jsonpatch<2.0,>=1.33->langchain-core) (3.0.0)\n",
            "Requirement already satisfied: six>=1.9.0 in /usr/local/lib/python3.11/dist-packages (from kubernetes>=28.1.0->chromadb) (1.17.0)\n",
            "Requirement already satisfied: python-dateutil>=2.5.3 in /usr/local/lib/python3.11/dist-packages (from kubernetes>=28.1.0->chromadb) (2.8.2)\n",
            "Requirement already satisfied: google-auth>=1.0.1 in /usr/local/lib/python3.11/dist-packages (from kubernetes>=28.1.0->chromadb) (2.27.0)\n",
            "Requirement already satisfied: websocket-client!=0.40.0,!=0.41.*,!=0.42.*,>=0.32.0 in /usr/local/lib/python3.11/dist-packages (from kubernetes>=28.1.0->chromadb) (1.8.0)\n",
            "Requirement already satisfied: requests-oauthlib in /usr/local/lib/python3.11/dist-packages (from kubernetes>=28.1.0->chromadb) (1.3.1)\n",
            "Requirement already satisfied: oauthlib>=3.2.2 in /usr/local/lib/python3.11/dist-packages (from kubernetes>=28.1.0->chromadb) (3.2.2)\n",
            "Requirement already satisfied: urllib3>=1.24.2 in /usr/local/lib/python3.11/dist-packages (from kubernetes>=28.1.0->chromadb) (2.3.0)\n",
            "Requirement already satisfied: durationpy>=0.7 in /usr/local/lib/python3.11/dist-packages (from kubernetes>=28.1.0->chromadb) (0.9)\n",
            "Requirement already satisfied: langchain-text-splitters<0.4.0,>=0.3.3 in /usr/local/lib/python3.11/dist-packages (from langchain<0.4.0,>=0.3.16->langchain-community) (0.3.5)\n",
            "Requirement already satisfied: requests-toolbelt<2.0.0,>=1.0.0 in /usr/local/lib/python3.11/dist-packages (from langsmith<0.4,>=0.1.125->langchain-core) (1.0.0)\n",
            "Requirement already satisfied: zstandard<0.24.0,>=0.23.0 in /usr/local/lib/python3.11/dist-packages (from langsmith<0.4,>=0.1.125->langchain-core) (0.23.0)\n",
            "Requirement already satisfied: coloredlogs in /usr/local/lib/python3.11/dist-packages (from onnxruntime>=1.14.1->chromadb) (15.0.1)\n",
            "Requirement already satisfied: flatbuffers in /usr/local/lib/python3.11/dist-packages (from onnxruntime>=1.14.1->chromadb) (25.1.24)\n",
            "Requirement already satisfied: protobuf in /usr/local/lib/python3.11/dist-packages (from onnxruntime>=1.14.1->chromadb) (5.29.3)\n",
            "Requirement already satisfied: sympy in /usr/local/lib/python3.11/dist-packages (from onnxruntime>=1.14.1->chromadb) (1.13.1)\n",
            "Requirement already satisfied: distro<2,>=1.7.0 in /usr/local/lib/python3.11/dist-packages (from openai<2.0.0,>=1.58.1->langchain-openai) (1.9.0)\n",
            "Requirement already satisfied: jiter<1,>=0.4.0 in /usr/local/lib/python3.11/dist-packages (from openai<2.0.0,>=1.58.1->langchain-openai) (0.8.2)\n",
            "Requirement already satisfied: sniffio in /usr/local/lib/python3.11/dist-packages (from openai<2.0.0,>=1.58.1->langchain-openai) (1.3.1)\n",
            "Requirement already satisfied: deprecated>=1.2.6 in /usr/local/lib/python3.11/dist-packages (from opentelemetry-api>=1.2.0->chromadb) (1.2.18)\n",
            "Requirement already satisfied: importlib-metadata<=8.5.0,>=6.0 in /usr/local/lib/python3.11/dist-packages (from opentelemetry-api>=1.2.0->chromadb) (8.5.0)\n",
            "Requirement already satisfied: googleapis-common-protos~=1.52 in /usr/local/lib/python3.11/dist-packages (from opentelemetry-exporter-otlp-proto-grpc>=1.2.0->chromadb) (1.66.0)\n",
            "Requirement already satisfied: opentelemetry-exporter-otlp-proto-common==1.29.0 in /usr/local/lib/python3.11/dist-packages (from opentelemetry-exporter-otlp-proto-grpc>=1.2.0->chromadb) (1.29.0)\n",
            "Requirement already satisfied: opentelemetry-proto==1.29.0 in /usr/local/lib/python3.11/dist-packages (from opentelemetry-exporter-otlp-proto-grpc>=1.2.0->chromadb) (1.29.0)\n",
            "Requirement already satisfied: opentelemetry-instrumentation-asgi==0.50b0 in /usr/local/lib/python3.11/dist-packages (from opentelemetry-instrumentation-fastapi>=0.41b0->chromadb) (0.50b0)\n",
            "Requirement already satisfied: opentelemetry-instrumentation==0.50b0 in /usr/local/lib/python3.11/dist-packages (from opentelemetry-instrumentation-fastapi>=0.41b0->chromadb) (0.50b0)\n",
            "Requirement already satisfied: opentelemetry-semantic-conventions==0.50b0 in /usr/local/lib/python3.11/dist-packages (from opentelemetry-instrumentation-fastapi>=0.41b0->chromadb) (0.50b0)\n",
            "Requirement already satisfied: opentelemetry-util-http==0.50b0 in /usr/local/lib/python3.11/dist-packages (from opentelemetry-instrumentation-fastapi>=0.41b0->chromadb) (0.50b0)\n",
            "Requirement already satisfied: asgiref~=3.0 in /usr/local/lib/python3.11/dist-packages (from opentelemetry-instrumentation-asgi==0.50b0->opentelemetry-instrumentation-fastapi>=0.41b0->chromadb) (3.8.1)\n",
            "Requirement already satisfied: monotonic>=1.5 in /usr/local/lib/python3.11/dist-packages (from posthog>=2.4.0->chromadb) (1.6)\n",
            "Requirement already satisfied: annotated-types>=0.6.0 in /usr/local/lib/python3.11/dist-packages (from pydantic<3.0.0,>=2.5.2->langchain-core) (0.7.0)\n",
            "Requirement already satisfied: pydantic-core==2.27.2 in /usr/local/lib/python3.11/dist-packages (from pydantic<3.0.0,>=2.5.2->langchain-core) (2.27.2)\n",
            "Requirement already satisfied: python-dotenv>=0.21.0 in /usr/local/lib/python3.11/dist-packages (from pydantic-settings<3.0.0,>=2.4.0->langchain-community) (1.0.1)\n",
            "Requirement already satisfied: charset-normalizer<4,>=2 in /usr/local/lib/python3.11/dist-packages (from requests<3,>=2->langchain-community) (3.4.1)\n",
            "Requirement already satisfied: markdown-it-py>=2.2.0 in /usr/local/lib/python3.11/dist-packages (from rich>=10.11.0->chromadb) (3.0.0)\n",
            "Requirement already satisfied: pygments<3.0.0,>=2.13.0 in /usr/local/lib/python3.11/dist-packages (from rich>=10.11.0->chromadb) (2.18.0)\n",
            "Requirement already satisfied: greenlet!=0.4.17 in /usr/local/lib/python3.11/dist-packages (from SQLAlchemy<3,>=1.4->langchain-community) (3.1.1)\n",
            "Requirement already satisfied: huggingface-hub<1.0,>=0.16.4 in /usr/local/lib/python3.11/dist-packages (from tokenizers>=0.13.2->chromadb) (0.27.1)\n",
            "Requirement already satisfied: click>=8.0.0 in /usr/local/lib/python3.11/dist-packages (from typer>=0.9.0->chromadb) (8.1.8)\n",
            "Requirement already satisfied: shellingham>=1.3.0 in /usr/local/lib/python3.11/dist-packages (from typer>=0.9.0->chromadb) (1.5.4)\n",
            "Requirement already satisfied: httptools>=0.6.3 in /usr/local/lib/python3.11/dist-packages (from uvicorn[standard]>=0.18.3->chromadb) (0.6.4)\n",
            "Requirement already satisfied: uvloop!=0.15.0,!=0.15.1,>=0.14.0 in /usr/local/lib/python3.11/dist-packages (from uvicorn[standard]>=0.18.3->chromadb) (0.21.0)\n",
            "Requirement already satisfied: watchfiles>=0.13 in /usr/local/lib/python3.11/dist-packages (from uvicorn[standard]>=0.18.3->chromadb) (1.0.4)\n",
            "Requirement already satisfied: websockets>=10.4 in /usr/local/lib/python3.11/dist-packages (from uvicorn[standard]>=0.18.3->chromadb) (14.2)\n",
            "Requirement already satisfied: soupsieve>1.2 in /usr/local/lib/python3.11/dist-packages (from beautifulsoup4->unstructured) (2.6)\n",
            "Requirement already satisfied: webencodings in /usr/local/lib/python3.11/dist-packages (from html5lib->unstructured) (0.5.1)\n",
            "Requirement already satisfied: joblib in /usr/local/lib/python3.11/dist-packages (from nltk->unstructured) (1.4.2)\n",
            "Requirement already satisfied: olefile in /usr/local/lib/python3.11/dist-packages (from python-oxmsg->unstructured) (0.47)\n",
            "Requirement already satisfied: aiofiles>=24.1.0 in /usr/local/lib/python3.11/dist-packages (from unstructured-client->unstructured) (24.1.0)\n",
            "Requirement already satisfied: cryptography>=3.1 in /usr/local/lib/python3.11/dist-packages (from unstructured-client->unstructured) (43.0.3)\n",
            "Requirement already satisfied: eval-type-backport<0.3.0,>=0.2.0 in /usr/local/lib/python3.11/dist-packages (from unstructured-client->unstructured) (0.2.2)\n",
            "Requirement already satisfied: jsonpath-python<2.0.0,>=1.0.6 in /usr/local/lib/python3.11/dist-packages (from unstructured-client->unstructured) (1.0.6)\n",
            "Requirement already satisfied: nest-asyncio>=1.6.0 in /usr/local/lib/python3.11/dist-packages (from unstructured-client->unstructured) (1.6.0)\n",
            "Requirement already satisfied: pypdf>=4.0 in /usr/local/lib/python3.11/dist-packages (from unstructured-client->unstructured) (5.2.0)\n",
            "Requirement already satisfied: cffi>=1.12 in /usr/local/lib/python3.11/dist-packages (from cryptography>=3.1->unstructured-client->unstructured) (1.17.1)\n",
            "Requirement already satisfied: cachetools<6.0,>=2.0.0 in /usr/local/lib/python3.11/dist-packages (from google-auth>=1.0.1->kubernetes>=28.1.0->chromadb) (5.5.1)\n",
            "Requirement already satisfied: pyasn1-modules>=0.2.1 in /usr/local/lib/python3.11/dist-packages (from google-auth>=1.0.1->kubernetes>=28.1.0->chromadb) (0.4.1)\n",
            "Requirement already satisfied: rsa<5,>=3.1.4 in /usr/local/lib/python3.11/dist-packages (from google-auth>=1.0.1->kubernetes>=28.1.0->chromadb) (4.9)\n",
            "Requirement already satisfied: filelock in /usr/local/lib/python3.11/dist-packages (from huggingface-hub<1.0,>=0.16.4->tokenizers>=0.13.2->chromadb) (3.17.0)\n",
            "Requirement already satisfied: fsspec>=2023.5.0 in /usr/local/lib/python3.11/dist-packages (from huggingface-hub<1.0,>=0.16.4->tokenizers>=0.13.2->chromadb) (2024.10.0)\n",
            "Requirement already satisfied: zipp>=3.20 in /usr/local/lib/python3.11/dist-packages (from importlib-metadata<=8.5.0,>=6.0->opentelemetry-api>=1.2.0->chromadb) (3.21.0)\n",
            "Requirement already satisfied: mdurl~=0.1 in /usr/local/lib/python3.11/dist-packages (from markdown-it-py>=2.2.0->rich>=10.11.0->chromadb) (0.1.2)\n",
            "Requirement already satisfied: mypy-extensions>=0.3.0 in /usr/local/lib/python3.11/dist-packages (from typing-inspect<1,>=0.4.0->dataclasses-json<0.7,>=0.5.7->langchain-community) (1.0.0)\n",
            "Requirement already satisfied: humanfriendly>=9.1 in /usr/local/lib/python3.11/dist-packages (from coloredlogs->onnxruntime>=1.14.1->chromadb) (10.0)\n",
            "Requirement already satisfied: mpmath<1.4,>=1.1.0 in /usr/local/lib/python3.11/dist-packages (from sympy->onnxruntime>=1.14.1->chromadb) (1.3.0)\n",
            "Requirement already satisfied: pycparser in /usr/local/lib/python3.11/dist-packages (from cffi>=1.12->cryptography>=3.1->unstructured-client->unstructured) (2.22)\n",
            "Requirement already satisfied: pyasn1<0.7.0,>=0.4.6 in /usr/local/lib/python3.11/dist-packages (from pyasn1-modules>=0.2.1->google-auth>=1.0.1->kubernetes>=28.1.0->chromadb) (0.6.1)\n"
          ]
        }
      ]
    },
    {
      "cell_type": "code",
      "source": [
        "import openai\n",
        "from google.colab import userdata\n",
        "import os\n",
        "\n",
        "\n",
        "openai_api= userdata.get(\"OPENAI_API_KEY\")"
      ],
      "metadata": {
        "id": "DYG8i9tGOne7"
      },
      "execution_count": 2,
      "outputs": []
    },
    {
      "cell_type": "code",
      "source": [
        "import os\n",
        "from langchain.embeddings import OpenAIEmbeddings\n",
        "from langchain.vectorstores import FAISS\n",
        "from langchain.text_splitter import RecursiveCharacterTextSplitter\n",
        "from langchain.document_loaders import TextLoader\n",
        "from langchain.chains import RetrievalQA\n",
        "from langchain.chat_models import ChatOpenAI\n",
        "from langchain.prompts import PromptTemplate\n",
        "from langchain.retrievers import BM25Retriever\n",
        "from langchain.schema import BaseRetriever, Document\n",
        "from typing import List\n",
        "from pydantic import Field  # Import Field for Pydantic model"
      ],
      "metadata": {
        "id": "OElaxK9mO8Ki"
      },
      "execution_count": 25,
      "outputs": []
    },
    {
      "cell_type": "code",
      "source": [
        "# Load documents\n",
        "loader = TextLoader(\"/content/tale_of_two_cities.txt\")  # Ensure you have a text file for testing\n",
        "documents = loader.load()\n",
        "\n",
        "# Split documents into smaller chunks\n",
        "text_splitter = RecursiveCharacterTextSplitter(chunk_size=500, chunk_overlap=50)\n",
        "docs = text_splitter.split_documents(documents)"
      ],
      "metadata": {
        "id": "gTjVxA3OPBDa"
      },
      "execution_count": 17,
      "outputs": []
    },
    {
      "cell_type": "code",
      "source": [
        "# Initialize OpenAI embeddings\n",
        "embedding_model = OpenAIEmbeddings(model=\"text-embedding-3-small\", openai_api_key=openai_api)\n",
        "\n",
        "# Store chunks in FAISS\n",
        "vector_db = FAISS.from_documents(docs, embedding_model)\n",
        "\n",
        "# Save for later use\n",
        "vector_db.save_local(\"faiss_index\")\n",
        "\n",
        "# Load FAISS with explicit permission for deserialization\n",
        "vector_db = FAISS.load_local(\n",
        "    \"faiss_index\",\n",
        "    embedding_model,\n",
        "    allow_dangerous_deserialization=True  # Enable if the index file is trusted\n",
        ")"
      ],
      "metadata": {
        "id": "Yi1_mR4PPvr5"
      },
      "execution_count": 18,
      "outputs": []
    },
    {
      "cell_type": "code",
      "source": [
        "# Initialize LLM\n",
        "llm = ChatOpenAI(model_name=\"gpt-3.5-turbo\", temperature=0, openai_api_key=openai_api)\n",
        "\n",
        "# Create vector retriever\n",
        "vector_retriever = vector_db.as_retriever(search_type=\"similarity\", search_kwargs={\"k\": 3})"
      ],
      "metadata": {
        "id": "6qqqvFMuP5hx"
      },
      "execution_count": 23,
      "outputs": []
    },
    {
      "cell_type": "markdown",
      "source": [
        "## **Advanced Techniques: Hybrid Search (BM25 + FAISS)**\n",
        "We combine BM25 keyword retrieval with FAISS embeddings for better search results."
      ],
      "metadata": {
        "id": "-obQP_JMQ6PH"
      }
    },
    {
      "cell_type": "code",
      "source": [
        "!pip install rank_bm25"
      ],
      "metadata": {
        "colab": {
          "base_uri": "https://localhost:8080/"
        },
        "id": "6q31tqZmRDJK",
        "outputId": "a50df69d-9100-4077-fa34-ed1fb26d46f5"
      },
      "execution_count": 10,
      "outputs": [
        {
          "output_type": "stream",
          "name": "stdout",
          "text": [
            "Collecting rank_bm25\n",
            "  Downloading rank_bm25-0.2.2-py3-none-any.whl.metadata (3.2 kB)\n",
            "Requirement already satisfied: numpy in /usr/local/lib/python3.11/dist-packages (from rank_bm25) (1.26.4)\n",
            "Downloading rank_bm25-0.2.2-py3-none-any.whl (8.6 kB)\n",
            "Installing collected packages: rank_bm25\n",
            "Successfully installed rank_bm25-0.2.2\n"
          ]
        }
      ]
    },
    {
      "cell_type": "code",
      "source": [
        "# Initialize BM25 retriever (for keyword-based search)\n",
        "bm25_retriever = BM25Retriever.from_documents(docs)\n",
        "\n",
        "\n",
        "class HybridRetriever(BaseRetriever):\n",
        "    vector_retriever: BaseRetriever = Field(...)  # Declare vector_retriever as a field\n",
        "    bm25_retriever: BaseRetriever = Field(...)    # Declare bm25_retriever as a field\n",
        "\n",
        "    def _get_relevant_documents(self, query: str, *, run_manager) -> List[Document]:\n",
        "        # Get vector store results\n",
        "        vector_docs = self.vector_retriever.invoke(query)\n",
        "        # Get BM25 results\n",
        "        bm25_docs = self.bm25_retriever.invoke(query)\n",
        "\n",
        "        # Merge results and remove duplicates\n",
        "        merged_docs = []\n",
        "        seen_contents = set()\n",
        "        for doc in vector_docs + bm25_docs:\n",
        "            if doc.page_content not in seen_contents:\n",
        "                seen_contents.add(doc.page_content)\n",
        "                merged_docs.append(doc)\n",
        "        return merged_docs\n",
        "\n",
        "# Create hybrid retriever\n",
        "hybrid_retriever = HybridRetriever(\n",
        "    vector_retriever=vector_retriever,  # Pass vector_retriever\n",
        "    bm25_retriever=bm25_retriever       # Pass bm25_retriever\n",
        ")\n",
        "\n",
        "# Update the QA chain with proper retriever\n",
        "qa_chain = RetrievalQA.from_chain_type(\n",
        "    llm=llm,\n",
        "    chain_type=\"stuff\",\n",
        "    retriever=hybrid_retriever,\n",
        "    return_source_documents=True\n",
        ")"
      ],
      "metadata": {
        "id": "QnFgpAleQZei"
      },
      "execution_count": 26,
      "outputs": []
    },
    {
      "cell_type": "markdown",
      "source": [
        "## **Query Expansion for Better Retrieval**"
      ],
      "metadata": {
        "id": "XLk4yzSgRNln"
      }
    },
    {
      "cell_type": "code",
      "source": [
        "def expand_query(query):\n",
        "    prompt = f\"Expand the following search query to improve document retrieval: {query}\"\n",
        "    expanded_query = llm.invoke(prompt)\n",
        "    return expanded_query.content  # Extract content from ChatResult"
      ],
      "metadata": {
        "id": "RmDd96kiQ_pQ"
      },
      "execution_count": 27,
      "outputs": []
    },
    {
      "cell_type": "markdown",
      "source": [
        "## **Ask Questions Using RAG**"
      ],
      "metadata": {
        "id": "n-od-ZQFRWXu"
      }
    },
    {
      "cell_type": "code",
      "source": [
        "# Test the fixed pipeline\n",
        "query = \"How did the French Revolution start?\"\n",
        "expanded_query = expand_query(query)\n",
        "response = qa_chain.invoke({\"query\": expanded_query})\n",
        "\n",
        "# Access the 'result' key from the response\n",
        "print(\"\\n🔹 Response:\\n\", response['result'])"
      ],
      "metadata": {
        "colab": {
          "base_uri": "https://localhost:8080/"
        },
        "id": "jzfCrlocRROS",
        "outputId": "b457b271-296a-412e-e5db-53d4241bf66a"
      },
      "execution_count": 28,
      "outputs": [
        {
          "output_type": "stream",
          "name": "stdout",
          "text": [
            "\n",
            "🔹 Response:\n",
            " The key events and factors that led to the start of the French Revolution include the financial crisis due to the extravagant spending of the monarchy, the social inequality and injustices in the society, the influence of Enlightenment ideas promoting liberty and equality, the poor living conditions of the lower classes, and the failure of King Louis XVI to address the economic and social issues facing the country. Additionally, the involvement of France in the American Revolutionary War and the subsequent economic strain it caused also contributed to the unrest that led to the French Revolution.\n"
          ]
        }
      ]
    },
    {
      "cell_type": "code",
      "source": [],
      "metadata": {
        "id": "r6uYlHJqRgmp"
      },
      "execution_count": null,
      "outputs": []
    }
  ]
}